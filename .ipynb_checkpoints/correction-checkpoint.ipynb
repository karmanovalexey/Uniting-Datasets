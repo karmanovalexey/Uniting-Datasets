{
 "cells": [
  {
   "cell_type": "code",
   "execution_count": 49,
   "metadata": {},
   "outputs": [],
   "source": [
    "import os\n",
    "\n",
    "import matplotlib.pyplot as plt\n",
    "import numpy as np\n",
    "import pandas as pd\n",
    "\n",
    "from tqdm import tqdm\n",
    "from PIL import Image\n",
    "from argparse import ArgumentParser\n"
   ]
  },
  {
   "cell_type": "code",
   "execution_count": 121,
   "metadata": {},
   "outputs": [],
   "source": [
    "track = 3\n",
    "data_dir = f'/workspace/nkbseg_dataset/kitti360/labels/{track}/'#label images directory\n",
    "support_dir = f'/workspace/KITTI-360/data_2d_semantics/train/2013_05_28_drive_000{track}_sync/semantic/'#label images directory\n",
    "new_dir = f'/workspace/nkbseg_dataset/kitti360/corrected_labels/{track}/' #Where to save new dataset\n",
    "config = 'config.csv'#CSV file consisting data for conversion"
   ]
  },
  {
   "cell_type": "code",
   "execution_count": 122,
   "metadata": {},
   "outputs": [],
   "source": [
    "#getting all filenames in a given folder to process them\n",
    "original = [os.path.join(dp, f) for dp, dn, fn in os.walk(os.path.expanduser(data_dir)) for f in fn]\n",
    "original.sort()\n",
    "\n",
    "support = [os.path.join(dp, f) for dp, dn, fn in os.walk(os.path.expanduser(support_dir)) for f in fn]\n",
    "support.sort()\n",
    "\n",
    "if not os.path.exists(new_dir):\n",
    "    os.makedirs(new_dir)\n",
    "    \n",
    "#loading config in pandas dataframe\n",
    "instruction = pd.read_csv(config)\n",
    "\n",
    "\n",
    "#palette to paint new images\n",
    "palette = instruction['Palette'].dropna().tolist()\n",
    "palette = [list(map(int, i.split(':')[1].split('-'))) for i in palette]\n",
    "palette = [item for sublist in palette for item in sublist]"
   ]
  },
  {
   "cell_type": "code",
   "execution_count": 123,
   "metadata": {},
   "outputs": [
    {
     "name": "stdout",
     "output_type": "stream",
     "text": [
      "[0, 1, '7k;0', '8k;1', 2, 4, 3, 5, 6, 7, 8, 9, 10, 255]\n"
     ]
    }
   ],
   "source": [
    "#getting necessary data from config:\n",
    "#supporting information\n",
    "order = instruction['Mapillary-Kitti-Priority'].dropna().tolist()\n",
    "order = [int(i) if ';' not in i else i for i in order]\n",
    "print(order)\n",
    "# order = list(range(11))+[255]\n",
    "# order.append('0r;9')\n",
    "# order.append('1r;9')\n",
    "# order.append('3r;4')\n",
    "# order.append('4r;5')\n",
    "# order.append('5r;5')\n",
    "# order.append('9r;10')\n",
    "# order.append('27r;10')\n",
    "# order.append('12r;8')\n",
    "# order.append(7)\n",
    "# print(order)"
   ]
  },
  {
   "cell_type": "code",
   "execution_count": 162,
   "metadata": {
    "scrolled": true
   },
   "outputs": [
    {
     "name": "stderr",
     "output_type": "stream",
     "text": [
      "  0%|          | 0/1031 [00:00<?, ?it/s]\n"
     ]
    },
    {
     "ename": "PermissionError",
     "evalue": "[Errno 13] Permission denied: '/workspace/nkbseg_dataset/kitti360/corrected_labels/3/0000000000.png'",
     "output_type": "error",
     "traceback": [
      "\u001b[0;31m---------------------------------------------------------------------------\u001b[0m",
      "\u001b[0;31mPermissionError\u001b[0m                           Traceback (most recent call last)",
      "\u001b[0;32m<ipython-input-162-2fa9ca0eeb97>\u001b[0m in \u001b[0;36m<module>\u001b[0;34m\u001b[0m\n\u001b[1;32m     27\u001b[0m         \u001b[0mnew_image\u001b[0m \u001b[0;34m=\u001b[0m \u001b[0mImage\u001b[0m\u001b[0;34m.\u001b[0m\u001b[0mfromarray\u001b[0m\u001b[0;34m(\u001b[0m\u001b[0mimage\u001b[0m\u001b[0;34m.\u001b[0m\u001b[0mastype\u001b[0m\u001b[0;34m(\u001b[0m\u001b[0mnp\u001b[0m\u001b[0;34m.\u001b[0m\u001b[0muint8\u001b[0m\u001b[0;34m)\u001b[0m\u001b[0;34m)\u001b[0m\u001b[0;34m\u001b[0m\u001b[0;34m\u001b[0m\u001b[0m\n\u001b[1;32m     28\u001b[0m         \u001b[0mnew_image\u001b[0m\u001b[0;34m.\u001b[0m\u001b[0mputpalette\u001b[0m\u001b[0;34m(\u001b[0m\u001b[0mpalette\u001b[0m\u001b[0;34m)\u001b[0m\u001b[0;34m\u001b[0m\u001b[0;34m\u001b[0m\u001b[0m\n\u001b[0;32m---> 29\u001b[0;31m         \u001b[0mnew_image\u001b[0m\u001b[0;34m.\u001b[0m\u001b[0msave\u001b[0m\u001b[0;34m(\u001b[0m\u001b[0mimage_name\u001b[0m\u001b[0;34m,\u001b[0m \u001b[0;34m\"PNG\"\u001b[0m\u001b[0;34m)\u001b[0m\u001b[0;34m\u001b[0m\u001b[0;34m\u001b[0m\u001b[0m\n\u001b[0m\u001b[1;32m     30\u001b[0m         \u001b[0mos\u001b[0m\u001b[0;34m.\u001b[0m\u001b[0mchmod\u001b[0m\u001b[0;34m(\u001b[0m\u001b[0mimage_name\u001b[0m\u001b[0;34m,\u001b[0m \u001b[0;36m775\u001b[0m\u001b[0;34m)\u001b[0m\u001b[0;34m\u001b[0m\u001b[0;34m\u001b[0m\u001b[0m\n\u001b[1;32m     31\u001b[0m \u001b[0;34m\u001b[0m\u001b[0m\n",
      "\u001b[0;32m/opt/conda/lib/python3.6/site-packages/PIL/Image.py\u001b[0m in \u001b[0;36msave\u001b[0;34m(self, fp, format, **params)\u001b[0m\n\u001b[1;32m   2230\u001b[0m                 \u001b[0mfp\u001b[0m \u001b[0;34m=\u001b[0m \u001b[0mbuiltins\u001b[0m\u001b[0;34m.\u001b[0m\u001b[0mopen\u001b[0m\u001b[0;34m(\u001b[0m\u001b[0mfilename\u001b[0m\u001b[0;34m,\u001b[0m \u001b[0;34m\"r+b\"\u001b[0m\u001b[0;34m)\u001b[0m\u001b[0;34m\u001b[0m\u001b[0;34m\u001b[0m\u001b[0m\n\u001b[1;32m   2231\u001b[0m             \u001b[0;32melse\u001b[0m\u001b[0;34m:\u001b[0m\u001b[0;34m\u001b[0m\u001b[0;34m\u001b[0m\u001b[0m\n\u001b[0;32m-> 2232\u001b[0;31m                 \u001b[0mfp\u001b[0m \u001b[0;34m=\u001b[0m \u001b[0mbuiltins\u001b[0m\u001b[0;34m.\u001b[0m\u001b[0mopen\u001b[0m\u001b[0;34m(\u001b[0m\u001b[0mfilename\u001b[0m\u001b[0;34m,\u001b[0m \u001b[0;34m\"w+b\"\u001b[0m\u001b[0;34m)\u001b[0m\u001b[0;34m\u001b[0m\u001b[0;34m\u001b[0m\u001b[0m\n\u001b[0m\u001b[1;32m   2233\u001b[0m \u001b[0;34m\u001b[0m\u001b[0m\n\u001b[1;32m   2234\u001b[0m         \u001b[0;32mtry\u001b[0m\u001b[0;34m:\u001b[0m\u001b[0;34m\u001b[0m\u001b[0;34m\u001b[0m\u001b[0m\n",
      "\u001b[0;31mPermissionError\u001b[0m: [Errno 13] Permission denied: '/workspace/nkbseg_dataset/kitti360/corrected_labels/3/0000000000.png'"
     ]
    }
   ],
   "source": [
    "#going through images\n",
    "for image_path in tqdm(original):\n",
    "    image_name = new_dir + image_path.split('/')[-1]\n",
    "    corr = support_dir + image_path.split('/')[-1]\n",
    "    if os.path.exists(corr):\n",
    "        image = np.array(Image.open(image_path))\n",
    "        sup = np.array(Image.open(corr))\n",
    "        new_image = np.zeros(image.shape)\n",
    "        #transfering labels class by class\n",
    "        for i, cls in enumerate(order):\n",
    "            if type(cls) != str:\n",
    "                new_image[image==cls] = cls\n",
    "            else:\n",
    "                new, old = cls.split(';')\n",
    "                new = new[:-1]\n",
    "                new_image[sup==int(new)] = old\n",
    "\n",
    "            #saving colored images\n",
    "        new_image = Image.fromarray(new_image.astype(np.uint8))\n",
    "        new_image.putpalette(palette)\n",
    "        new_image.save(image_name, \"PNG\")\n",
    "\n",
    "        #adjusting permissions\n",
    "        os.chmod(image_name, 775)\n",
    "    else:\n",
    "        image = np.array(Image.open(image_path))\n",
    "        new_image = Image.fromarray(image.astype(np.uint8))\n",
    "        new_image.putpalette(palette)\n",
    "        new_image.save(image_name, \"PNG\")\n",
    "        os.chmod(image_name, 775)\n",
    "        \n",
    "plt.figure(figsize=(16,8))\n",
    "plt.imshow(new_image)"
   ]
  },
  {
   "cell_type": "code",
   "execution_count": 166,
   "metadata": {},
   "outputs": [],
   "source": [
    "defect = '/workspace/nkbseg_dataset/kitti360/corrected_labels/3/0000000377.png'"
   ]
  },
  {
   "cell_type": "code",
   "execution_count": 171,
   "metadata": {
    "scrolled": true
   },
   "outputs": [
    {
     "name": "stdout",
     "output_type": "stream",
     "text": [
      "[[False False False ... False False False]\n",
      " [False False False ... False False False]\n",
      " [False False False ... False False False]\n",
      " ...\n",
      " [False False False ... False False False]\n",
      " [False False False ... False False False]\n",
      " [False False False ... False False False]]\n"
     ]
    },
    {
     "data": {
      "text/plain": [
       "<matplotlib.image.AxesImage at 0x7f858c4b1668>"
      ]
     },
     "execution_count": 171,
     "metadata": {},
     "output_type": "execute_result"
    },
    {
     "data": {
      "image/png": "[encoded data removed]",
      "text/plain": [
       "<Figure size 1152x576 with 1 Axes>"
      ]
     },
     "metadata": {
      "needs_background": "light"
     },
     "output_type": "display_data"
    }
   ],
   "source": [
    "mask = np.array(Image.open(defect))[:,800:850]==8\n",
    "print(area)\n",
    "plt.figure(figsize=(16,8))\n",
    "plt.imshow(Image.fromarray(area))"
   ]
  },
  {
   "cell_type": "code",
   "execution_count": null,
   "metadata": {},
   "outputs": [],
   "source": [
    "right = '/workspace/KITTI-360/data_2d_semantics/train/2013_05_28_drive_0003_sync/semantic/'"
   ]
  }
 ],
 "metadata": {
  "kernelspec": {
   "display_name": "Python 3",
   "language": "python",
   "name": "python3"
  },
  "language_info": {
   "codemirror_mode": {
    "name": "ipython",
    "version": 3
   },
   "file_extension": ".py",
   "mimetype": "text/x-python",
   "name": "python",
   "nbconvert_exporter": "python",
   "pygments_lexer": "ipython3",
   "version": "3.6.9"
  }
 },
 "nbformat": 4,
 "nbformat_minor": 2
}
