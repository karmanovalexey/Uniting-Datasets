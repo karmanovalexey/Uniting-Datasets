{
 "cells": [
  {
   "cell_type": "code",
   "execution_count": 49,
   "metadata": {},
   "outputs": [],
   "source": [
    "import os\n",
    "\n",
    "import matplotlib.pyplot as plt\n",
    "import numpy as np\n",
    "import pandas as pd\n",
    "\n",
    "from tqdm import tqdm\n",
    "from PIL import Image\n",
    "from argparse import ArgumentParser\n"
   ]
  },
  {
   "cell_type": "code",
   "execution_count": 311,
   "metadata": {},
   "outputs": [],
   "source": [
    "track = 9\n",
    "data_dir = f'/workspace/nkbseg_dataset/kitti360/labels/{track}/'#label images directory\n",
    "support_dir = f'/workspace/KITTI-360/data_2d_semantics/train/2013_05_28_drive_000{track}_sync/semantic/'#label images directory\n",
    "new_dir = f'/workspace/nkbseg_dataset/kitti360/corrected_labels/{track}/' #Where to save new dataset\n",
    "config = 'config.csv'#CSV file consisting data for conversion"
   ]
  },
  {
   "cell_type": "code",
   "execution_count": 312,
   "metadata": {},
   "outputs": [],
   "source": [
    "#getting all filenames in a given folder to process them\n",
    "original = [os.path.join(dp, f) for dp, dn, fn in os.walk(os.path.expanduser(data_dir)) for f in fn]\n",
    "original.sort()\n",
    "\n",
    "support = [os.path.join(dp, f) for dp, dn, fn in os.walk(os.path.expanduser(support_dir)) for f in fn]\n",
    "support.sort()\n",
    "\n",
    "if not os.path.exists(new_dir):\n",
    "    os.makedirs(new_dir)\n",
    "    \n",
    "#loading config in pandas dataframe\n",
    "instruction = pd.read_csv(config)\n",
    "\n",
    "\n",
    "#palette to paint new images\n",
    "palette = instruction['Palette'].dropna().tolist()\n",
    "palette = [list(map(int, i.split(':')[1].split('-'))) for i in palette]\n",
    "palette = [item for sublist in palette for item in sublist]"
   ]
  },
  {
   "cell_type": "code",
   "execution_count": 313,
   "metadata": {},
   "outputs": [
    {
     "name": "stdout",
     "output_type": "stream",
     "text": [
      "[0, 1, '7k;0', '8k;1', 2, 4, 3, 5, 6, 7, 8, 9, 10, 255]\n"
     ]
    }
   ],
   "source": [
    "#getting necessary data from config:\n",
    "#supporting information\n",
    "order = instruction['Mapillary-Kitti-Priority'].dropna().tolist()\n",
    "order = [int(i) if ';' not in i else i for i in order]\n",
    "print(order)\n",
    "# order = list(range(11))+[255]\n",
    "# order.append('0r;9')\n",
    "# order.append('1r;9')\n",
    "# order.append('3r;4')\n",
    "# order.append('4r;5')\n",
    "# order.append('5r;5')\n",
    "# order.append('9r;10')\n",
    "# order.append('27r;10')\n",
    "# order.append('12r;8')\n",
    "# order.append(7)\n",
    "# print(order)"
   ]
  },
  {
   "cell_type": "code",
   "execution_count": null,
   "metadata": {
    "scrolled": true
   },
   "outputs": [
    {
     "name": "stderr",
     "output_type": "stream",
     "text": [
      " 44%|████▍     | 6226/14056 [04:51<09:46, 13.36it/s]  "
     ]
    }
   ],
   "source": [
    "#going through images\n",
    "for image_path in tqdm(original):\n",
    "    image_name = new_dir + image_path.split('/')[-1]\n",
    "    corr = support_dir + image_path.split('/')[-1]\n",
    "    if os.path.exists(corr):\n",
    "        image = np.array(Image.open(image_path))\n",
    "        sup = np.array(Image.open(corr))\n",
    "        new_image = np.zeros(image.shape)\n",
    "        #transfering labels class by class\n",
    "        for i, cls in enumerate(order):\n",
    "            if type(cls) != str:\n",
    "                new_image[image==cls] = cls\n",
    "            else:\n",
    "                new, old = cls.split(';')\n",
    "                new = new[:-1]\n",
    "                new_image[sup==int(new)] = old\n",
    "\n",
    "            #saving colored images\n",
    "        new_image = Image.fromarray(new_image.astype(np.uint8))\n",
    "        new_image.putpalette(palette)\n",
    "        new_image.save(image_name, \"PNG\")\n",
    "\n",
    "        #adjusting permissions\n",
    "        os.chmod(image_name, 775)\n",
    "    else:\n",
    "        image = np.array(Image.open(image_path))\n",
    "        new_image = Image.fromarray(image.astype(np.uint8))\n",
    "        new_image.putpalette(palette)\n",
    "        new_image.save(image_name, \"PNG\")\n",
    "        os.chmod(image_name, 775)\n",
    "        \n",
    "plt.figure(figsize=(16,8))\n",
    "plt.imshow(new_image)"
   ]
  },
  {
   "cell_type": "code",
   "execution_count": null,
   "metadata": {},
   "outputs": [],
   "source": []
  }
 ],
 "metadata": {
  "kernelspec": {
   "display_name": "Python 3",
   "language": "python",
   "name": "python3"
  },
  "language_info": {
   "codemirror_mode": {
    "name": "ipython",
    "version": 3
   },
   "file_extension": ".py",
   "mimetype": "text/x-python",
   "name": "python",
   "nbconvert_exporter": "python",
   "pygments_lexer": "ipython3",
   "version": "3.6.9"
  }
 },
 "nbformat": 4,
 "nbformat_minor": 2
}
